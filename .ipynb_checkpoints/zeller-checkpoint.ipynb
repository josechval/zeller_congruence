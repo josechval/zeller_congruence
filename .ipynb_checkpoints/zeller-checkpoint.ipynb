{
 "cells": [
  {
   "cell_type": "markdown",
   "metadata": {},
   "source": [
    "# Congruencia de Zeller. \n",
    "\n",
    "Esta es la fórmula para calcular el día de la semana de una fecha del calendario gregoriano.\n",
    "\n",
    "$$\n",
    "h = \\Big(q + \\Big\\lfloor\\frac{13(m + 1)}{5}\\Big\\rfloor + k  +  \\Big\\lfloor\\frac{k}{4}\\Big\\rfloor +  \\Big\\lfloor\\frac{j}{4}\\Big\\rfloor - 2j\\Big)\\space  mod \\space 7\n",
    "$$\n",
    "\n",
    "Donde:\n",
    "\n",
    "\n",
    "* $h$ es el día de la semana (0 = sábado, 1 = domingo, 2 = lunes, 3 = martes, 4 = miércoles, 5 = jueves, 6 = viernes).\n",
    "* $q$ es el día del mes.\n",
    "* $m$ es el mes (3 = marzo, 4 = abril, 5 = mayo, 6 = junio, 7 = julio, 8 = agosto, 9 = septiembre, 10 = octubre, 11 = noviembre, 12 = diciembre, 13 = enero, 14 = febrero).\n",
    "* $k$ es el año dentro del siglo: $\\lfloor año/100 \\rfloor$.\n",
    "* $j$ es el inicio de un siglo: $año \\space mod \\space 100$.\n",
    "* En caso de que el mes sea enero o febrero, se le resta 1 al año.\n",
    "\n",
    "Fuente: https://en.wikipedia.org/wiki/Zeller%27s_congruence"
   ]
  },
  {
   "cell_type": "markdown",
   "metadata": {},
   "source": [
    "## La función ```calcula_dia()```."
   ]
  },
  {
   "cell_type": "code",
   "execution_count": 1,
   "metadata": {},
   "outputs": [],
   "source": [
    "def calcula_dia(fecha):\n",
    "    \"\"\"Función que regresa el nombre del día de la semana de la fecha \n",
    "    que se ingrese como argumento usando el formato 'dd/mm/aaaa'.\"\"\"\n",
    "    q, m, año = [int(x) for x in fecha.split('/')] \n",
    "    if m in [1, 2]:\n",
    "        m += 12\n",
    "        año -= 1\n",
    "    k = año % 100\n",
    "    j = año // 100\n",
    "    dia_semana = (q + ((13 * (m + 1)) // 5) + k + (k // 4) + (j // 4) - 2 * j) % 7\n",
    "    return ['sábado', 'domingo', 'lunes', 'martes', 'miércoles', 'jueves', 'viernes'][dia_semana]"
   ]
  },
  {
   "cell_type": "markdown",
   "metadata": {},
   "source": [
    "**Ejemplo:**"
   ]
  },
  {
   "cell_type": "markdown",
   "metadata": {},
   "source": [
    "* La siguiente celda calculará el día de la semana correspondiente al 4 de octubre de 2019 (```'04/10/2019'```). "
   ]
  },
  {
   "cell_type": "code",
   "execution_count": 2,
   "metadata": {},
   "outputs": [
    {
     "data": {
      "text/plain": [
       "'viernes'"
      ]
     },
     "execution_count": 2,
     "metadata": {},
     "output_type": "execute_result"
    }
   ],
   "source": [
    "calcula_dia('04/10/2019')"
   ]
  }
 ],
 "metadata": {
  "kernelspec": {
   "display_name": "Python 3",
   "language": "python",
   "name": "python3"
  },
  "language_info": {
   "codemirror_mode": {
    "name": "ipython",
    "version": 3
   },
   "file_extension": ".py",
   "mimetype": "text/x-python",
   "name": "python",
   "nbconvert_exporter": "python",
   "pygments_lexer": "ipython3",
   "version": "3.6.8"
  }
 },
 "nbformat": 4,
 "nbformat_minor": 2
}
